{
 "cells": [
  {
   "cell_type": "code",
   "execution_count": 1,
   "metadata": {},
   "outputs": [],
   "source": [
    "import pandas as pd\n",
    "import numpy as np\n",
    "url=\"https://raw.githubusercontent.com/wangjk321/Intragenic-cohesin-project/master/March2020/bino161_normalizedContinuous15.matrix\"\n",
    "mt = pd.read_csv(url,sep=\"\\t\")"
   ]
  },
  {
   "cell_type": "code",
   "execution_count": 2,
   "metadata": {},
   "outputs": [],
   "source": [
    "mt.index=mt.CohesinPos\n",
    "mt.shape\n",
    "mt.drop(\"CohesinPos\",axis=1,inplace=True)"
   ]
  },
  {
   "cell_type": "code",
   "execution_count": 3,
   "metadata": {},
   "outputs": [
    {
     "data": {
      "text/html": [
       "<div>\n",
       "<style scoped>\n",
       "    .dataframe tbody tr th:only-of-type {\n",
       "        vertical-align: middle;\n",
       "    }\n",
       "\n",
       "    .dataframe tbody tr th {\n",
       "        vertical-align: top;\n",
       "    }\n",
       "\n",
       "    .dataframe thead th {\n",
       "        text-align: right;\n",
       "    }\n",
       "</style>\n",
       "<table border=\"1\" class=\"dataframe\">\n",
       "  <thead>\n",
       "    <tr style=\"text-align: right;\">\n",
       "      <th></th>\n",
       "      <th>AFF4</th>\n",
       "      <th>AP2g</th>\n",
       "      <th>BRD3</th>\n",
       "      <th>BRD4</th>\n",
       "      <th>CAGE_MCF7</th>\n",
       "      <th>CAGE_all</th>\n",
       "      <th>CBP</th>\n",
       "      <th>ChIAloop</th>\n",
       "      <th>CpG</th>\n",
       "      <th>DNase</th>\n",
       "      <th>...</th>\n",
       "      <th>Insulation</th>\n",
       "      <th>Mvalue_continue</th>\n",
       "      <th>Zscore10k</th>\n",
       "      <th>cohesinAvalue</th>\n",
       "      <th>cohesinWidth</th>\n",
       "      <th>deltaDLR</th>\n",
       "      <th>deltaICF</th>\n",
       "      <th>diffZscore10k</th>\n",
       "      <th>homerInsulation</th>\n",
       "      <th>InterNumber</th>\n",
       "    </tr>\n",
       "    <tr>\n",
       "      <th>CohesinPos</th>\n",
       "      <th></th>\n",
       "      <th></th>\n",
       "      <th></th>\n",
       "      <th></th>\n",
       "      <th></th>\n",
       "      <th></th>\n",
       "      <th></th>\n",
       "      <th></th>\n",
       "      <th></th>\n",
       "      <th></th>\n",
       "      <th></th>\n",
       "      <th></th>\n",
       "      <th></th>\n",
       "      <th></th>\n",
       "      <th></th>\n",
       "      <th></th>\n",
       "      <th></th>\n",
       "      <th></th>\n",
       "      <th></th>\n",
       "      <th></th>\n",
       "      <th></th>\n",
       "    </tr>\n",
       "  </thead>\n",
       "  <tbody>\n",
       "    <tr>\n",
       "      <th>chr1-850499-850659</th>\n",
       "      <td>0</td>\n",
       "      <td>0</td>\n",
       "      <td>0</td>\n",
       "      <td>0</td>\n",
       "      <td>0</td>\n",
       "      <td>0</td>\n",
       "      <td>0</td>\n",
       "      <td>0</td>\n",
       "      <td>0</td>\n",
       "      <td>1</td>\n",
       "      <td>...</td>\n",
       "      <td>0.190981</td>\n",
       "      <td>-0.63231</td>\n",
       "      <td>45.452673</td>\n",
       "      <td>3.66993</td>\n",
       "      <td>7.322018</td>\n",
       "      <td>-0.103674</td>\n",
       "      <td>-0.00756</td>\n",
       "      <td>-65.270988</td>\n",
       "      <td>0.078481</td>\n",
       "      <td>3</td>\n",
       "    </tr>\n",
       "    <tr>\n",
       "      <th>chr1-869857-870002</th>\n",
       "      <td>0</td>\n",
       "      <td>0</td>\n",
       "      <td>0</td>\n",
       "      <td>0</td>\n",
       "      <td>0</td>\n",
       "      <td>0</td>\n",
       "      <td>0</td>\n",
       "      <td>0</td>\n",
       "      <td>1</td>\n",
       "      <td>1</td>\n",
       "      <td>...</td>\n",
       "      <td>0.190981</td>\n",
       "      <td>-0.29637</td>\n",
       "      <td>45.627491</td>\n",
       "      <td>3.32193</td>\n",
       "      <td>7.180009</td>\n",
       "      <td>0.233326</td>\n",
       "      <td>-0.03506</td>\n",
       "      <td>-39.408281</td>\n",
       "      <td>0.033869</td>\n",
       "      <td>5</td>\n",
       "    </tr>\n",
       "    <tr>\n",
       "      <th>chr1-904555-904884</th>\n",
       "      <td>0</td>\n",
       "      <td>0</td>\n",
       "      <td>0</td>\n",
       "      <td>1</td>\n",
       "      <td>1</td>\n",
       "      <td>1</td>\n",
       "      <td>0</td>\n",
       "      <td>1</td>\n",
       "      <td>1</td>\n",
       "      <td>1</td>\n",
       "      <td>...</td>\n",
       "      <td>0.273662</td>\n",
       "      <td>-0.01361</td>\n",
       "      <td>81.727402</td>\n",
       "      <td>5.11890</td>\n",
       "      <td>8.361988</td>\n",
       "      <td>-0.454674</td>\n",
       "      <td>0.00244</td>\n",
       "      <td>-95.430456</td>\n",
       "      <td>-0.090600</td>\n",
       "      <td>6</td>\n",
       "    </tr>\n",
       "    <tr>\n",
       "      <th>chr1-904699-904909</th>\n",
       "      <td>0</td>\n",
       "      <td>0</td>\n",
       "      <td>0</td>\n",
       "      <td>1</td>\n",
       "      <td>1</td>\n",
       "      <td>1</td>\n",
       "      <td>0</td>\n",
       "      <td>1</td>\n",
       "      <td>1</td>\n",
       "      <td>1</td>\n",
       "      <td>...</td>\n",
       "      <td>0.273662</td>\n",
       "      <td>0.22640</td>\n",
       "      <td>81.727402</td>\n",
       "      <td>5.38729</td>\n",
       "      <td>7.714314</td>\n",
       "      <td>-0.454674</td>\n",
       "      <td>0.00244</td>\n",
       "      <td>-95.430456</td>\n",
       "      <td>-0.090600</td>\n",
       "      <td>6</td>\n",
       "    </tr>\n",
       "    <tr>\n",
       "      <th>chr1-905140-905582</th>\n",
       "      <td>0</td>\n",
       "      <td>0</td>\n",
       "      <td>0</td>\n",
       "      <td>0</td>\n",
       "      <td>1</td>\n",
       "      <td>0</td>\n",
       "      <td>0</td>\n",
       "      <td>1</td>\n",
       "      <td>1</td>\n",
       "      <td>0</td>\n",
       "      <td>...</td>\n",
       "      <td>0.273662</td>\n",
       "      <td>-0.08616</td>\n",
       "      <td>81.727402</td>\n",
       "      <td>4.93054</td>\n",
       "      <td>8.787935</td>\n",
       "      <td>-0.301674</td>\n",
       "      <td>-0.00056</td>\n",
       "      <td>-95.430456</td>\n",
       "      <td>-0.090600</td>\n",
       "      <td>6</td>\n",
       "    </tr>\n",
       "    <tr>\n",
       "      <th>...</th>\n",
       "      <td>...</td>\n",
       "      <td>...</td>\n",
       "      <td>...</td>\n",
       "      <td>...</td>\n",
       "      <td>...</td>\n",
       "      <td>...</td>\n",
       "      <td>...</td>\n",
       "      <td>...</td>\n",
       "      <td>...</td>\n",
       "      <td>...</td>\n",
       "      <td>...</td>\n",
       "      <td>...</td>\n",
       "      <td>...</td>\n",
       "      <td>...</td>\n",
       "      <td>...</td>\n",
       "      <td>...</td>\n",
       "      <td>...</td>\n",
       "      <td>...</td>\n",
       "      <td>...</td>\n",
       "      <td>...</td>\n",
       "      <td>...</td>\n",
       "    </tr>\n",
       "    <tr>\n",
       "      <th>chrX-155651299-155651497</th>\n",
       "      <td>0</td>\n",
       "      <td>0</td>\n",
       "      <td>0</td>\n",
       "      <td>0</td>\n",
       "      <td>0</td>\n",
       "      <td>0</td>\n",
       "      <td>0</td>\n",
       "      <td>0</td>\n",
       "      <td>0</td>\n",
       "      <td>1</td>\n",
       "      <td>...</td>\n",
       "      <td>0.000000</td>\n",
       "      <td>-0.44419</td>\n",
       "      <td>14.648195</td>\n",
       "      <td>4.38078</td>\n",
       "      <td>7.629429</td>\n",
       "      <td>-0.087674</td>\n",
       "      <td>0.05744</td>\n",
       "      <td>-119.709285</td>\n",
       "      <td>0.000000</td>\n",
       "      <td>11</td>\n",
       "    </tr>\n",
       "    <tr>\n",
       "      <th>chrX-155651371-155651767</th>\n",
       "      <td>0</td>\n",
       "      <td>0</td>\n",
       "      <td>0</td>\n",
       "      <td>0</td>\n",
       "      <td>0</td>\n",
       "      <td>0</td>\n",
       "      <td>0</td>\n",
       "      <td>0</td>\n",
       "      <td>0</td>\n",
       "      <td>1</td>\n",
       "      <td>...</td>\n",
       "      <td>0.000000</td>\n",
       "      <td>0.00758</td>\n",
       "      <td>14.648195</td>\n",
       "      <td>5.04423</td>\n",
       "      <td>8.629393</td>\n",
       "      <td>-0.087674</td>\n",
       "      <td>0.05744</td>\n",
       "      <td>-119.709285</td>\n",
       "      <td>0.000000</td>\n",
       "      <td>11</td>\n",
       "    </tr>\n",
       "    <tr>\n",
       "      <th>chrX-155662247-155662823</th>\n",
       "      <td>0</td>\n",
       "      <td>0</td>\n",
       "      <td>0</td>\n",
       "      <td>0</td>\n",
       "      <td>0</td>\n",
       "      <td>0</td>\n",
       "      <td>0</td>\n",
       "      <td>0</td>\n",
       "      <td>0</td>\n",
       "      <td>1</td>\n",
       "      <td>...</td>\n",
       "      <td>0.000000</td>\n",
       "      <td>-0.07644</td>\n",
       "      <td>19.055503</td>\n",
       "      <td>5.10837</td>\n",
       "      <td>9.169950</td>\n",
       "      <td>-0.176674</td>\n",
       "      <td>-0.01356</td>\n",
       "      <td>-100.249147</td>\n",
       "      <td>0.000000</td>\n",
       "      <td>10</td>\n",
       "    </tr>\n",
       "    <tr>\n",
       "      <th>chrX-155662403-155662676</th>\n",
       "      <td>0</td>\n",
       "      <td>0</td>\n",
       "      <td>0</td>\n",
       "      <td>0</td>\n",
       "      <td>0</td>\n",
       "      <td>0</td>\n",
       "      <td>0</td>\n",
       "      <td>0</td>\n",
       "      <td>0</td>\n",
       "      <td>1</td>\n",
       "      <td>...</td>\n",
       "      <td>0.000000</td>\n",
       "      <td>0.37997</td>\n",
       "      <td>19.055503</td>\n",
       "      <td>6.21757</td>\n",
       "      <td>8.092810</td>\n",
       "      <td>-0.176674</td>\n",
       "      <td>-0.01356</td>\n",
       "      <td>-100.249147</td>\n",
       "      <td>0.000000</td>\n",
       "      <td>10</td>\n",
       "    </tr>\n",
       "    <tr>\n",
       "      <th>chrX-155686433-155686537</th>\n",
       "      <td>0</td>\n",
       "      <td>0</td>\n",
       "      <td>0</td>\n",
       "      <td>0</td>\n",
       "      <td>0</td>\n",
       "      <td>0</td>\n",
       "      <td>0</td>\n",
       "      <td>0</td>\n",
       "      <td>0</td>\n",
       "      <td>1</td>\n",
       "      <td>...</td>\n",
       "      <td>0.000000</td>\n",
       "      <td>0.89197</td>\n",
       "      <td>19.014375</td>\n",
       "      <td>3.18316</td>\n",
       "      <td>6.700578</td>\n",
       "      <td>0.077326</td>\n",
       "      <td>-0.01156</td>\n",
       "      <td>-83.779147</td>\n",
       "      <td>0.000000</td>\n",
       "      <td>11</td>\n",
       "    </tr>\n",
       "  </tbody>\n",
       "</table>\n",
       "<p>184140 rows × 176 columns</p>\n",
       "</div>"
      ],
      "text/plain": [
       "                          AFF4  AP2g  BRD3  BRD4  CAGE_MCF7  CAGE_all  CBP  \\\n",
       "CohesinPos                                                                   \n",
       "chr1-850499-850659           0     0     0     0          0         0    0   \n",
       "chr1-869857-870002           0     0     0     0          0         0    0   \n",
       "chr1-904555-904884           0     0     0     1          1         1    0   \n",
       "chr1-904699-904909           0     0     0     1          1         1    0   \n",
       "chr1-905140-905582           0     0     0     0          1         0    0   \n",
       "...                        ...   ...   ...   ...        ...       ...  ...   \n",
       "chrX-155651299-155651497     0     0     0     0          0         0    0   \n",
       "chrX-155651371-155651767     0     0     0     0          0         0    0   \n",
       "chrX-155662247-155662823     0     0     0     0          0         0    0   \n",
       "chrX-155662403-155662676     0     0     0     0          0         0    0   \n",
       "chrX-155686433-155686537     0     0     0     0          0         0    0   \n",
       "\n",
       "                          ChIAloop  CpG  DNase  ...  Insulation  \\\n",
       "CohesinPos                                      ...               \n",
       "chr1-850499-850659               0    0      1  ...    0.190981   \n",
       "chr1-869857-870002               0    1      1  ...    0.190981   \n",
       "chr1-904555-904884               1    1      1  ...    0.273662   \n",
       "chr1-904699-904909               1    1      1  ...    0.273662   \n",
       "chr1-905140-905582               1    1      0  ...    0.273662   \n",
       "...                            ...  ...    ...  ...         ...   \n",
       "chrX-155651299-155651497         0    0      1  ...    0.000000   \n",
       "chrX-155651371-155651767         0    0      1  ...    0.000000   \n",
       "chrX-155662247-155662823         0    0      1  ...    0.000000   \n",
       "chrX-155662403-155662676         0    0      1  ...    0.000000   \n",
       "chrX-155686433-155686537         0    0      1  ...    0.000000   \n",
       "\n",
       "                          Mvalue_continue  Zscore10k  cohesinAvalue  \\\n",
       "CohesinPos                                                            \n",
       "chr1-850499-850659               -0.63231  45.452673        3.66993   \n",
       "chr1-869857-870002               -0.29637  45.627491        3.32193   \n",
       "chr1-904555-904884               -0.01361  81.727402        5.11890   \n",
       "chr1-904699-904909                0.22640  81.727402        5.38729   \n",
       "chr1-905140-905582               -0.08616  81.727402        4.93054   \n",
       "...                                   ...        ...            ...   \n",
       "chrX-155651299-155651497         -0.44419  14.648195        4.38078   \n",
       "chrX-155651371-155651767          0.00758  14.648195        5.04423   \n",
       "chrX-155662247-155662823         -0.07644  19.055503        5.10837   \n",
       "chrX-155662403-155662676          0.37997  19.055503        6.21757   \n",
       "chrX-155686433-155686537          0.89197  19.014375        3.18316   \n",
       "\n",
       "                          cohesinWidth  deltaDLR  deltaICF  diffZscore10k  \\\n",
       "CohesinPos                                                                  \n",
       "chr1-850499-850659            7.322018 -0.103674  -0.00756     -65.270988   \n",
       "chr1-869857-870002            7.180009  0.233326  -0.03506     -39.408281   \n",
       "chr1-904555-904884            8.361988 -0.454674   0.00244     -95.430456   \n",
       "chr1-904699-904909            7.714314 -0.454674   0.00244     -95.430456   \n",
       "chr1-905140-905582            8.787935 -0.301674  -0.00056     -95.430456   \n",
       "...                                ...       ...       ...            ...   \n",
       "chrX-155651299-155651497      7.629429 -0.087674   0.05744    -119.709285   \n",
       "chrX-155651371-155651767      8.629393 -0.087674   0.05744    -119.709285   \n",
       "chrX-155662247-155662823      9.169950 -0.176674  -0.01356    -100.249147   \n",
       "chrX-155662403-155662676      8.092810 -0.176674  -0.01356    -100.249147   \n",
       "chrX-155686433-155686537      6.700578  0.077326  -0.01156     -83.779147   \n",
       "\n",
       "                          homerInsulation  InterNumber  \n",
       "CohesinPos                                              \n",
       "chr1-850499-850659               0.078481            3  \n",
       "chr1-869857-870002               0.033869            5  \n",
       "chr1-904555-904884              -0.090600            6  \n",
       "chr1-904699-904909              -0.090600            6  \n",
       "chr1-905140-905582              -0.090600            6  \n",
       "...                                   ...          ...  \n",
       "chrX-155651299-155651497         0.000000           11  \n",
       "chrX-155651371-155651767         0.000000           11  \n",
       "chrX-155662247-155662823         0.000000           10  \n",
       "chrX-155662403-155662676         0.000000           10  \n",
       "chrX-155686433-155686537         0.000000           11  \n",
       "\n",
       "[184140 rows x 176 columns]"
      ]
     },
     "execution_count": 3,
     "metadata": {},
     "output_type": "execute_result"
    }
   ],
   "source": [
    "mt"
   ]
  },
  {
   "cell_type": "code",
   "execution_count": 4,
   "metadata": {},
   "outputs": [
    {
     "data": {
      "text/plain": [
       "18604"
      ]
     },
     "execution_count": 4,
     "metadata": {},
     "output_type": "execute_result"
    }
   ],
   "source": [
    "#1. divide data to (Decreased + Intragenic ) and others.\n",
    "sum(mt[\"GeneE2response\"]==1)"
   ]
  },
  {
   "cell_type": "code",
   "execution_count": 5,
   "metadata": {},
   "outputs": [
    {
     "data": {
      "text/plain": [
       "19104"
      ]
     },
     "execution_count": 5,
     "metadata": {},
     "output_type": "execute_result"
    }
   ],
   "source": [
    "sum(mt[\"Mvalue_continue\"]>0.5)"
   ]
  },
  {
   "cell_type": "code",
   "execution_count": 6,
   "metadata": {},
   "outputs": [
    {
     "data": {
      "text/plain": [
       "13099"
      ]
     },
     "execution_count": 6,
     "metadata": {},
     "output_type": "execute_result"
    }
   ],
   "source": [
    "sum(mt[\"Mvalue\"]==-1)"
   ]
  },
  {
   "cell_type": "code",
   "execution_count": 7,
   "metadata": {},
   "outputs": [
    {
     "data": {
      "text/plain": [
       "26066"
      ]
     },
     "execution_count": 7,
     "metadata": {},
     "output_type": "execute_result"
    }
   ],
   "source": [
    "sum(mt[\"cohesin.intra\"]==1)"
   ]
  },
  {
   "cell_type": "code",
   "execution_count": 8,
   "metadata": {},
   "outputs": [
    {
     "data": {
      "text/plain": [
       "159"
      ]
     },
     "execution_count": 8,
     "metadata": {},
     "output_type": "execute_result"
    }
   ],
   "source": [
    "sum((mt[\"GeneE2response\"]==1) & (mt[\"Mvalue\"]==-1) & (mt[\"cohesin.intra\"]==1) )"
   ]
  },
  {
   "cell_type": "code",
   "execution_count": 9,
   "metadata": {},
   "outputs": [
    {
     "data": {
      "text/plain": [
       "2225"
      ]
     },
     "execution_count": 9,
     "metadata": {},
     "output_type": "execute_result"
    }
   ],
   "source": [
    "sum((mt[\"Mvalue_continue\"]<-0.5) & (mt[\"cohesin.intra\"]==1) )"
   ]
  },
  {
   "cell_type": "code",
   "execution_count": 10,
   "metadata": {},
   "outputs": [],
   "source": [
    "#1. divide data to (Decreased + Intragenic ) and others.\n",
    "#研究降低的，在基因内的 cohesin特征\n",
    "y=(mt[\"Mvalue_continue\"]<-0.5) & (mt[\"cohesin.intra\"]==1)\n",
    "\n",
    "X=mt.drop([\"Mvalue\",\"Mvalue_continue\",\"cohesin.TSS\",\"cohesin.TES\",\"cohesin.extraFar\",\"cohesin.extraNear\",\"cohesin.intra\"],axis=1)"
   ]
  },
  {
   "cell_type": "code",
   "execution_count": 11,
   "metadata": {},
   "outputs": [
    {
     "name": "stdout",
     "output_type": "stream",
     "text": [
      "(184140, 169) \n",
      " (184140,)\n"
     ]
    }
   ],
   "source": [
    "print(X.shape,\"\\n\",y.shape)"
   ]
  },
  {
   "cell_type": "code",
   "execution_count": 12,
   "metadata": {},
   "outputs": [
    {
     "data": {
      "text/plain": [
       "False    0.987917\n",
       "True     0.012083\n",
       "dtype: float64"
      ]
     },
     "execution_count": 12,
     "metadata": {},
     "output_type": "execute_result"
    }
   ],
   "source": [
    "y.value_counts(normalize=True)"
   ]
  },
  {
   "cell_type": "code",
   "execution_count": 13,
   "metadata": {},
   "outputs": [
    {
     "name": "stderr",
     "output_type": "stream",
     "text": [
      "/home/wang/software/anaconda3/lib/python3.6/site-packages/sklearn/utils/deprecation.py:144: FutureWarning: The sklearn.neighbors.base module is  deprecated in version 0.22 and will be removed in version 0.24. The corresponding classes / functions should instead be imported from sklearn.neighbors. Anything that cannot be imported from sklearn.neighbors is now part of the private API.\n",
      "  warnings.warn(message, FutureWarning)\n",
      "/home/wang/software/anaconda3/lib/python3.6/site-packages/sklearn/utils/deprecation.py:144: FutureWarning: The sklearn.ensemble.bagging module is  deprecated in version 0.22 and will be removed in version 0.24. The corresponding classes / functions should instead be imported from sklearn.ensemble. Anything that cannot be imported from sklearn.ensemble is now part of the private API.\n",
      "  warnings.warn(message, FutureWarning)\n",
      "/home/wang/software/anaconda3/lib/python3.6/site-packages/sklearn/utils/deprecation.py:144: FutureWarning: The sklearn.ensemble.base module is  deprecated in version 0.22 and will be removed in version 0.24. The corresponding classes / functions should instead be imported from sklearn.ensemble. Anything that cannot be imported from sklearn.ensemble is now part of the private API.\n",
      "  warnings.warn(message, FutureWarning)\n",
      "/home/wang/software/anaconda3/lib/python3.6/site-packages/sklearn/utils/deprecation.py:144: FutureWarning: The sklearn.ensemble.forest module is  deprecated in version 0.22 and will be removed in version 0.24. The corresponding classes / functions should instead be imported from sklearn.ensemble. Anything that cannot be imported from sklearn.ensemble is now part of the private API.\n",
      "  warnings.warn(message, FutureWarning)\n",
      "/home/wang/software/anaconda3/lib/python3.6/site-packages/sklearn/utils/deprecation.py:144: FutureWarning: The sklearn.utils.testing module is  deprecated in version 0.22 and will be removed in version 0.24. The corresponding classes / functions should instead be imported from sklearn.utils. Anything that cannot be imported from sklearn.utils is now part of the private API.\n",
      "  warnings.warn(message, FutureWarning)\n",
      "/home/wang/software/anaconda3/lib/python3.6/site-packages/sklearn/utils/deprecation.py:144: FutureWarning: The sklearn.metrics.classification module is  deprecated in version 0.22 and will be removed in version 0.24. The corresponding classes / functions should instead be imported from sklearn.metrics. Anything that cannot be imported from sklearn.metrics is now part of the private API.\n",
      "  warnings.warn(message, FutureWarning)\n"
     ]
    }
   ],
   "source": [
    "from sklearn.model_selection import train_test_split\n",
    "from imblearn.over_sampling import SMOTE"
   ]
  },
  {
   "cell_type": "code",
   "execution_count": 14,
   "metadata": {},
   "outputs": [],
   "source": [
    "X_train,X_test,y_train,y_test = train_test_split(X,y,random_state=1234)"
   ]
  },
  {
   "cell_type": "code",
   "execution_count": 15,
   "metadata": {
    "scrolled": false
   },
   "outputs": [
    {
     "name": "stdout",
     "output_type": "stream",
     "text": [
      "(138105, 169) \n",
      " (138105,) \n",
      " (46035, 169) \n",
      " (46035,)\n",
      "True cohesin number 1678，False cohesin number 136427。\n"
     ]
    }
   ],
   "source": [
    "# Before smote\n",
    "print(X_train.shape,\"\\n\",y_train.shape,\"\\n\",X_test.shape,\"\\n\",y_test.shape)\n",
    "print('True cohesin number {}，False cohesin number {}。'.format(sum(y_train==True),sum(y_train==False)))"
   ]
  },
  {
   "cell_type": "code",
   "execution_count": 16,
   "metadata": {},
   "outputs": [
    {
     "name": "stderr",
     "output_type": "stream",
     "text": [
      "/home/wang/software/anaconda3/lib/python3.6/site-packages/sklearn/utils/deprecation.py:87: FutureWarning: Function safe_indexing is deprecated; safe_indexing is deprecated in version 0.22 and will be removed in version 0.24.\n",
      "  warnings.warn(msg, category=FutureWarning)\n"
     ]
    }
   ],
   "source": [
    "#After smote\n",
    "smote = SMOTE(random_state=1111)\n",
    "X_train_os,y_train_os = smote.fit_sample(X_train, y_train.ravel())"
   ]
  },
  {
   "cell_type": "code",
   "execution_count": 17,
   "metadata": {},
   "outputs": [
    {
     "name": "stdout",
     "output_type": "stream",
     "text": [
      "(272854, 169) \n",
      " (272854,) \n",
      " (46035, 169) \n",
      " (46035,)\n",
      "上采样后，类别为‘1’的共有136427个，类别为‘0’的共有136427个。\n"
     ]
    }
   ],
   "source": [
    "print(X_train_os.shape,\"\\n\",y_train_os.shape,\"\\n\",X_test.shape,\"\\n\",y_test.shape)\n",
    "print('上采样后，类别为‘1’的共有{}个，类别为‘0’的共有{}个。'.format(sum(y_train_os==True),sum(y_train_os==False)))"
   ]
  },
  {
   "cell_type": "code",
   "execution_count": 18,
   "metadata": {},
   "outputs": [],
   "source": [
    "from sklearn.model_selection import GridSearchCV\n",
    "from sklearn.linear_model import LogisticRegression\n",
    "from sklearn.metrics import confusion_matrix,roc_curve, auc, recall_score, classification_report"
   ]
  },
  {
   "cell_type": "code",
   "execution_count": 19,
   "metadata": {
    "scrolled": true
   },
   "outputs": [
    {
     "name": "stdout",
     "output_type": "stream",
     "text": [
      "Fitting 5 folds for each of 10 candidates, totalling 50 fits\n"
     ]
    },
    {
     "name": "stderr",
     "output_type": "stream",
     "text": [
      "[Parallel(n_jobs=-1)]: Using backend LokyBackend with 144 concurrent workers.\n",
      "[Parallel(n_jobs=-1)]: Done   5 out of  50 | elapsed:  1.0min remaining:  9.3min\n",
      "[Parallel(n_jobs=-1)]: Done  16 out of  50 | elapsed:  1.2min remaining:  2.6min\n",
      "[Parallel(n_jobs=-1)]: Done  27 out of  50 | elapsed:  1.6min remaining:  1.4min\n",
      "[Parallel(n_jobs=-1)]: Done  38 out of  50 | elapsed:  1.7min remaining:   32.3s\n",
      "[Parallel(n_jobs=-1)]: Done  50 out of  50 | elapsed:  1.8min finished\n",
      "/home/wang/software/anaconda3/lib/python3.6/site-packages/sklearn/linear_model/_logistic.py:940: ConvergenceWarning: lbfgs failed to converge (status=1):\n",
      "STOP: TOTAL NO. of ITERATIONS REACHED LIMIT.\n",
      "\n",
      "Increase the number of iterations (max_iter) or scale the data as shown in:\n",
      "    https://scikit-learn.org/stable/modules/preprocessing.html\n",
      "Please also refer to the documentation for alternative solver options:\n",
      "    https://scikit-learn.org/stable/modules/linear_model.html#logistic-regression\n",
      "  extra_warning_msg=_LOGISTIC_SOLVER_CONVERGENCE_MSG)\n"
     ]
    },
    {
     "data": {
      "text/plain": [
       "GridSearchCV(cv=5, error_score=nan,\n",
       "             estimator=LogisticRegression(C=1.0, class_weight=None, dual=False,\n",
       "                                          fit_intercept=True,\n",
       "                                          intercept_scaling=1, l1_ratio=None,\n",
       "                                          max_iter=100, multi_class='auto',\n",
       "                                          n_jobs=None, penalty='l2',\n",
       "                                          random_state=None, solver='lbfgs',\n",
       "                                          tol=0.0001, verbose=0,\n",
       "                                          warm_start=False),\n",
       "             iid='deprecated', n_jobs=-1,\n",
       "             param_grid={'C': array([ 1.,  2.,  3.,  4.,  5.,  6.,  7.,  8.,  9., 10.])},\n",
       "             pre_dispatch='2*n_jobs', refit=True, return_train_score=False,\n",
       "             scoring=None, verbose=5)"
      ]
     },
     "execution_count": 19,
     "metadata": {},
     "output_type": "execute_result"
    }
   ],
   "source": [
    "#使用网格搜索合适的正则化系数，并设定verbose\n",
    "lr=LogisticRegression()\n",
    "paramaters = {'C':np.linspace(1,10, num=10)}\n",
    "lr_grid = GridSearchCV(lr, paramaters, cv=5, n_jobs=-1, verbose=5) \n",
    "lr_grid.fit(X_train_os, y_train_os)"
   ]
  },
  {
   "cell_type": "code",
   "execution_count": 20,
   "metadata": {
    "scrolled": true
   },
   "outputs": [
    {
     "name": "stdout",
     "output_type": "stream",
     "text": [
      "最好的参数： {'C': 6.0}\n"
     ]
    }
   ],
   "source": [
    "print('最好的参数：',lr_grid.best_params_)"
   ]
  },
  {
   "cell_type": "code",
   "execution_count": 37,
   "metadata": {},
   "outputs": [
    {
     "name": "stdout",
     "output_type": "stream",
     "text": [
      "[LibLinear]"
     ]
    },
    {
     "data": {
      "text/plain": [
       "LogisticRegression(C=5, class_weight='balanced', dual=False, fit_intercept=True,\n",
       "                   intercept_scaling=1, l1_ratio=None, max_iter=100,\n",
       "                   multi_class='auto', n_jobs=None, penalty='l1',\n",
       "                   random_state=None, solver='liblinear', tol=0.0001, verbose=5,\n",
       "                   warm_start=False)"
      ]
     },
     "execution_count": 37,
     "metadata": {},
     "output_type": "execute_result"
    }
   ],
   "source": [
    "#使用优化后的参数进行回归\n",
    "lr1 = LogisticRegression(C=5, penalty='l1',verbose=5,class_weight=\"balanced\",solver='liblinear')\n",
    "lr1.fit(X_train_os, y_train_os.ravel(),)"
   ]
  },
  {
   "cell_type": "code",
   "execution_count": 38,
   "metadata": {},
   "outputs": [
    {
     "name": "stdout",
     "output_type": "stream",
     "text": [
      "[[101755  34672]\n",
      " [   330   1348]]\n",
      "Recall metric in the train dataset: 80.33373063170441%\n"
     ]
    }
   ],
   "source": [
    "#训练集(原始）的混淆矩阵\n",
    "y_train_pre = lr1.predict(X_train)\n",
    "cnf_matrix_train = confusion_matrix(y_train, y_train_pre)\n",
    "print(cnf_matrix_train)\n",
    "print(\"Recall metric in the train dataset: {}%\".format(100*cnf_matrix_train[1,1]/(cnf_matrix_train[1,0]+cnf_matrix_train[1,1])))"
   ]
  },
  {
   "cell_type": "code",
   "execution_count": 39,
   "metadata": {},
   "outputs": [
    {
     "name": "stdout",
     "output_type": "stream",
     "text": [
      "[[101755  34672]\n",
      " [ 19739 116688]]\n",
      "Recall metric in the train dataset: 85.53145638326724%\n"
     ]
    }
   ],
   "source": [
    "#训练集（过采样后）的混淆矩阵\n",
    "y_train_pre = lr1.predict(X_train_os)\n",
    "cnf_matrix_train = confusion_matrix(y_train_os, y_train_pre)\n",
    "print(cnf_matrix_train)\n",
    "print(\"Recall metric in the train dataset: {}%\".format(100*cnf_matrix_train[1,1]/(cnf_matrix_train[1,0]+cnf_matrix_train[1,1])))"
   ]
  },
  {
   "cell_type": "code",
   "execution_count": 40,
   "metadata": {},
   "outputs": [
    {
     "name": "stdout",
     "output_type": "stream",
     "text": [
      "[[33898 11590]\n",
      " [  124   423]]\n",
      "Recall metric in the train dataset: 77.3308957952468%\n"
     ]
    }
   ],
   "source": [
    "#测试集的混淆矩阵\n",
    "y_pre = lr1.predict(X_test)\n",
    "cnf_matrix = confusion_matrix(y_test, y_pre)\n",
    "print(cnf_matrix)\n",
    "print(\"Recall metric in the train dataset: {}%\".format(100*cnf_matrix[1,1]/(cnf_matrix[1,0]+cnf_matrix[1,1])))"
   ]
  },
  {
   "cell_type": "code",
   "execution_count": 41,
   "metadata": {},
   "outputs": [
    {
     "name": "stdout",
     "output_type": "stream",
     "text": [
      "f1_score: 0.06735668789808917\n",
      "recall_score: 0.773308957952468\n",
      "precision_score 0.03521185382502289\n",
      "accuracy_score 0.7455414358640166\n",
      "\n",
      " clasification report:\n",
      "               precision    recall  f1-score   support\n",
      "\n",
      "       False       1.00      0.75      0.85     45488\n",
      "        True       0.04      0.77      0.07       547\n",
      "\n",
      "    accuracy                           0.75     46035\n",
      "   macro avg       0.52      0.76      0.46     46035\n",
      "weighted avg       0.98      0.75      0.84     46035\n",
      "\n",
      "\n",
      " confussion matrix:\n",
      " [[33898 11590]\n",
      " [  124   423]]\n"
     ]
    }
   ],
   "source": [
    "from sklearn.metrics import accuracy_score, f1_score, precision_score, recall_score, classification_report, confusion_matrix\n",
    "print(\"f1_score:\", f1_score(y_test,y_pre))\n",
    "print(\"recall_score:\",recall_score(y_test,y_pre))\n",
    "print(\"precision_score\",precision_score(y_test,y_pre))\n",
    "print(\"accuracy_score\",accuracy_score(y_test,y_pre))\n",
    "print('\\n clasification report:\\n',classification_report(y_test,y_pre))\n",
    "print('\\n confussion matrix:\\n',confusion_matrix(y_test,y_pre))"
   ]
  },
  {
   "cell_type": "code",
   "execution_count": 42,
   "metadata": {},
   "outputs": [
    {
     "name": "stdout",
     "output_type": "stream",
     "text": [
      "[LibLinear]"
     ]
    },
    {
     "data": {
      "text/plain": [
       "array([ -1.09475345, -13.53982606,  -0.05857805, ...,   1.18170105,\n",
       "        -7.04124277,   0.24283174])"
      ]
     },
     "execution_count": 42,
     "metadata": {},
     "output_type": "execute_result"
    }
   ],
   "source": [
    "#ROC\n",
    "model = lr1.fit(X_train_os, y_train_os.ravel())\n",
    "y_pred_sample_score = model.decision_function(X_test)  # decision_function(): Predict confidence scores for samples X_test.\n",
    "y_pred_sample_score"
   ]
  },
  {
   "cell_type": "code",
   "execution_count": 43,
   "metadata": {},
   "outputs": [
    {
     "name": "stdout",
     "output_type": "stream",
     "text": [
      "0.8325188602687509\n"
     ]
    }
   ],
   "source": [
    "fpr, tpr, thresholds = roc_curve(y_test, y_pred_sample_score)\n",
    "roc_auc = auc(fpr, tpr)\n",
    "print(roc_auc)"
   ]
  },
  {
   "cell_type": "code",
   "execution_count": 44,
   "metadata": {},
   "outputs": [
    {
     "data": {
      "image/png": "[encoded data removed]",
      "text/plain": [
       "<Figure size 432x288 with 1 Axes>"
      ]
     },
     "metadata": {
      "needs_background": "light"
     },
     "output_type": "display_data"
    }
   ],
   "source": [
    "import matplotlib.pyplot as plt\n",
    "plt.title('Receiver Operating Characteristic')\n",
    "plt.plot(fpr, tpr, 'b',label='AUC = %0.3f'% roc_auc)\n",
    "plt.legend(loc='lower right') # 设置legend的位置\n",
    "plt.plot([0,1],[0,1],'r--') # red, --\n",
    "plt.xlim([-0.1,1.0])\n",
    "plt.ylim([-0.1,1.01])\n",
    "plt.ylabel('True Positive Rate')\n",
    "plt.xlabel('False Positive Rate')\n",
    "plt.show()"
   ]
  },
  {
   "cell_type": "code",
   "execution_count": 45,
   "metadata": {},
   "outputs": [
    {
     "name": "stdout",
     "output_type": "stream",
     "text": [
      "0.7456066036711197\n"
     ]
    }
   ],
   "source": [
    "print(lr1.score(X_test,y_test))"
   ]
  },
  {
   "cell_type": "code",
   "execution_count": 47,
   "metadata": {
    "scrolled": true
   },
   "outputs": [
    {
     "data": {
      "image/png": "[encoded data removed]",
      "text/plain": [
       "<Figure size 1296x1152 with 1 Axes>"
      ]
     },
     "metadata": {
      "needs_background": "light"
     },
     "output_type": "display_data"
    }
   ],
   "source": [
    "#feature 重要性排序\n",
    "feature_importance = lr1.coef_[0]\n",
    "feature_importance =(feature_importance / abs(feature_importance).max())\n",
    "sorted_idx = np.argsort(feature_importance)\n",
    "pos = np.arange(sorted_idx.shape[0]) + .5\n",
    "\n",
    "featfig = plt.figure(figsize=(18, 16))\n",
    "featax = featfig.add_subplot(1, 1, 1)\n",
    "\n",
    "ncolor= np.arange(0, len(X_test.columns), step=1)\n",
    "norm = plt.Normalize(ncolor.min(), ncolor.max())\n",
    "norm_color=norm(ncolor)\n",
    "from matplotlib import cm\n",
    "map_vir = cm.get_cmap(name='PiYG')\n",
    "colors = map_vir(norm_color)\n",
    "\n",
    "\n",
    "featax.barh(pos, feature_importance[sorted_idx], align='center',color=colors)\n",
    "featax.set_yticks(pos)\n",
    "featax.set_yticklabels(np.array(X_test.columns)[sorted_idx], fontsize=8)\n",
    "featax.set_xlabel('Relative Feature Importance')\n",
    "plt.tight_layout()   \n",
    "plt.show()"
   ]
  },
  {
   "cell_type": "code",
   "execution_count": 33,
   "metadata": {},
   "outputs": [
    {
     "ename": "NameError",
     "evalue": "name 'sorted_idx' is not defined",
     "output_type": "error",
     "traceback": [
      "\u001b[0;31m---------------------------------------------------------------------------\u001b[0m",
      "\u001b[0;31mNameError\u001b[0m                                 Traceback (most recent call last)",
      "\u001b[0;32m<ipython-input-33-3c42ba22dc7a>\u001b[0m in \u001b[0;36m<module>\u001b[0;34m\u001b[0m\n\u001b[0;32m----> 1\u001b[0;31m \u001b[0mnp\u001b[0m\u001b[0;34m.\u001b[0m\u001b[0marray\u001b[0m\u001b[0;34m(\u001b[0m\u001b[0mX_test\u001b[0m\u001b[0;34m.\u001b[0m\u001b[0mcolumns\u001b[0m\u001b[0;34m)\u001b[0m\u001b[0;34m[\u001b[0m\u001b[0msorted_idx\u001b[0m\u001b[0;34m]\u001b[0m\u001b[0;34m\u001b[0m\u001b[0;34m\u001b[0m\u001b[0m\n\u001b[0m",
      "\u001b[0;31mNameError\u001b[0m: name 'sorted_idx' is not defined"
     ]
    }
   ],
   "source": [
    "np.array(X_test.columns)[sorted_idx]"
   ]
  },
  {
   "cell_type": "code",
   "execution_count": 148,
   "metadata": {},
   "outputs": [
    {
     "data": {
      "text/plain": [
       "0    2224\n",
       "1       1\n",
       "Name: GWAS_ERpositive, dtype: int64"
      ]
     },
     "execution_count": 148,
     "metadata": {},
     "output_type": "execute_result"
    }
   ],
   "source": [
    "X[y][\"GWAS_ERpositive\"].value_counts()"
   ]
  },
  {
   "cell_type": "code",
   "execution_count": null,
   "metadata": {},
   "outputs": [],
   "source": []
  },
  {
   "cell_type": "code",
   "execution_count": null,
   "metadata": {},
   "outputs": [],
   "source": []
  },
  {
   "cell_type": "code",
   "execution_count": null,
   "metadata": {},
   "outputs": [],
   "source": [
    "###Raw regression"
   ]
  },
  {
   "cell_type": "code",
   "execution_count": 69,
   "metadata": {},
   "outputs": [
    {
     "name": "stderr",
     "output_type": "stream",
     "text": [
      "/home/wang/software/anaconda3/lib/python3.6/site-packages/sklearn/linear_model/logistic.py:432: FutureWarning: Default solver will be changed to 'lbfgs' in 0.22. Specify a solver to silence this warning.\n",
      "  FutureWarning)\n"
     ]
    },
    {
     "data": {
      "text/plain": [
       "LogisticRegression(C=1.0, class_weight=None, dual=False, fit_intercept=True,\n",
       "                   intercept_scaling=1, l1_ratio=None, max_iter=100,\n",
       "                   multi_class='warn', n_jobs=None, penalty='l2',\n",
       "                   random_state=None, solver='warn', tol=0.0001, verbose=0,\n",
       "                   warm_start=False)"
      ]
     },
     "execution_count": 69,
     "metadata": {},
     "output_type": "execute_result"
    }
   ],
   "source": [
    "lr_raw = LogisticRegression()\n",
    "lr_raw.fit(X_train,y_train)"
   ]
  },
  {
   "cell_type": "code",
   "execution_count": 71,
   "metadata": {},
   "outputs": [
    {
     "data": {
      "text/plain": [
       "0.9881177365048333"
      ]
     },
     "execution_count": 71,
     "metadata": {},
     "output_type": "execute_result"
    }
   ],
   "source": [
    "lr_raw.score(X_test,y_test)"
   ]
  },
  {
   "cell_type": "code",
   "execution_count": 75,
   "metadata": {},
   "outputs": [],
   "source": [
    "from sklearn import metrics\n",
    "preds=lr_raw.predict(X_train)"
   ]
  },
  {
   "cell_type": "code",
   "execution_count": 81,
   "metadata": {},
   "outputs": [
    {
     "name": "stdout",
     "output_type": "stream",
     "text": [
      "[[136427      0]\n",
      " [  1676      2]]\n",
      "Recall metric in the train dataset: 0.11918951132300358%\n"
     ]
    }
   ],
   "source": [
    "#训练集(原始）的混淆矩阵\n",
    "y_train_pre = lr_raw.predict(X_train)\n",
    "cnf_matrix_train = confusion_matrix(y_train, y_train_pre)\n",
    "print(cnf_matrix_train)\n",
    "print(\"Recall metric in the train dataset: {}%\".format(100*cnf_matrix_train[1,1]/(cnf_matrix_train[1,0]+cnf_matrix_train[1,1])))"
   ]
  },
  {
   "cell_type": "code",
   "execution_count": 155,
   "metadata": {},
   "outputs": [
    {
     "name": "stdout",
     "output_type": "stream",
     "text": [
      "[[45488     0]\n",
      " [  547     0]]\n",
      "Recall metric in the train dataset: 0.0%\n"
     ]
    }
   ],
   "source": [
    "#测试集的混淆矩阵\n",
    "y_pre = lr_raw.predict(X_test)\n",
    "cnf_matrix = confusion_matrix(y_test, y_pre)\n",
    "print(cnf_matrix)\n",
    "print(\"Recall metric in the train dataset: {}%\".format(100*cnf_matrix[1,1]/(cnf_matrix[1,0]+cnf_matrix[1,1])))"
   ]
  },
  {
   "cell_type": "code",
   "execution_count": 76,
   "metadata": {},
   "outputs": [
    {
     "data": {
      "text/plain": [
       "array([[136427,      0],\n",
       "       [  1676,      2]])"
      ]
     },
     "execution_count": 76,
     "metadata": {},
     "output_type": "execute_result"
    }
   ],
   "source": [
    "metrics.confusion_matrix(y_train,preds)"
   ]
  },
  {
   "cell_type": "code",
   "execution_count": 78,
   "metadata": {},
   "outputs": [
    {
     "data": {
      "text/plain": [
       "array([ -5.02881438,  -9.77712238,  -4.18487314, ...,  -3.86427891,\n",
       "       -10.37001566,  -3.97236281])"
      ]
     },
     "execution_count": 78,
     "metadata": {},
     "output_type": "execute_result"
    }
   ],
   "source": [
    "y_pred_sample_score = lr_raw.decision_function(X_test)  # decision_function(): Predict confidence scores for samples X_test.\n",
    "y_pred_sample_score"
   ]
  },
  {
   "cell_type": "code",
   "execution_count": 79,
   "metadata": {},
   "outputs": [
    {
     "name": "stdout",
     "output_type": "stream",
     "text": [
      "0.8304818403198208\n"
     ]
    }
   ],
   "source": [
    "fpr, tpr, thresholds = roc_curve(y_test, y_pred_sample_score)\n",
    "roc_auc = auc(fpr, tpr)\n",
    "print(roc_auc)"
   ]
  },
  {
   "cell_type": "code",
   "execution_count": 80,
   "metadata": {},
   "outputs": [
    {
     "data": {
      "image/png": "[encoded data removed]",
      "text/plain": [
       "<Figure size 432x288 with 1 Axes>"
      ]
     },
     "metadata": {
      "needs_background": "light"
     },
     "output_type": "display_data"
    }
   ],
   "source": [
    "plt.title('Receiver Operating Characteristic')\n",
    "plt.plot(fpr, tpr, 'b',label='AUC = %0.3f'% roc_auc)\n",
    "plt.legend(loc='lower right') # 设置legend的位置\n",
    "plt.plot([0,1],[0,1],'r--') # red, --\n",
    "plt.xlim([-0.1,1.0])\n",
    "plt.ylim([-0.1,1.01])\n",
    "plt.ylabel('True Positive Rate')\n",
    "plt.xlabel('False Positive Rate')\n",
    "plt.show()"
   ]
  },
  {
   "cell_type": "code",
   "execution_count": null,
   "metadata": {},
   "outputs": [],
   "source": []
  },
  {
   "cell_type": "code",
   "execution_count": 27,
   "metadata": {},
   "outputs": [
    {
     "data": {
      "text/plain": [
       "array([ 2.95946111e-01,  4.72357450e-02, -1.50489262e-01, -3.10688000e-01,\n",
       "       -4.26894902e-01, -4.28879230e-01,  4.79409498e-02, -2.20870027e-01,\n",
       "       -6.64589991e-01,  1.29099947e-01,  2.44644818e-02,  6.14909855e-01,\n",
       "        2.23741883e-01, -1.35054715e-01,  1.08638424e-01,  5.16355252e-01,\n",
       "        8.29601693e-02, -4.29793827e-02,  1.37967552e-01, -1.63463061e-02,\n",
       "        8.11311217e-02, -9.27068123e-01,  2.59868458e-01, -7.52757838e-01,\n",
       "       -4.79973536e-02, -4.26454383e-02, -1.13801398e-01, -5.98709224e-01,\n",
       "       -5.78306027e-01, -8.32527178e-01,  4.73850321e-01,  2.78989436e-01,\n",
       "       -1.38602001e-01,  2.78663534e-01, -1.38448019e-01, -4.46690350e-01,\n",
       "       -2.50351709e-01, -4.69572627e-01, -2.70545533e-01, -1.18949358e-01,\n",
       "       -5.45848441e-01,  6.46516215e-02, -5.05277630e-02, -2.38578061e-01,\n",
       "       -3.88564744e-01,  6.37896871e-02,  2.23291565e-02,  1.77128794e-03,\n",
       "       -3.30798639e-02,  1.22657193e-01,  3.48108705e-01, -8.53605633e-03,\n",
       "       -1.63952550e-01,  8.46425524e-02,  4.40663983e-01,  7.75048125e-02,\n",
       "        1.05043081e-01, -1.54440217e-01,  5.68394270e-01,  2.68132527e-01,\n",
       "        3.27468363e-01, -8.38504473e-01,  1.39264811e-01, -7.99843302e-02,\n",
       "       -1.83407595e-03,  7.08849682e-01, -2.46826237e-01,  1.27782860e-01,\n",
       "       -1.13836708e-01, -1.64636636e-01, -1.57367351e-01,  1.67161118e-01,\n",
       "        1.84256570e-01, -4.99159718e-03, -7.27350447e-01, -3.40073065e-01,\n",
       "       -1.10956036e-01,  3.37282887e-01, -1.26749145e-01, -1.76602073e-02,\n",
       "        3.28632227e-01, -6.75559744e-01,  1.00795119e-01, -1.48484608e-01,\n",
       "       -1.76482056e-01,  7.03862280e-03, -5.78791641e-01, -2.00933028e-01,\n",
       "        3.30749999e-01,  3.28574796e-02,  6.35052536e-01, -9.48607235e-02,\n",
       "        1.84326014e-01, -3.32697857e-01,  2.29590796e-04, -8.69084723e-02,\n",
       "       -6.14532308e-01,  4.66189607e-01,  5.62324796e-02, -9.34167866e-01,\n",
       "        3.70513837e-03, -5.90312641e-01, -3.52299713e-02,  2.48924348e-01,\n",
       "        2.31281502e-01, -2.31869592e-01,  2.99122434e-02,  1.40825922e-02,\n",
       "        1.82690038e-01, -8.89541249e-01, -7.83493911e-02,  9.93382508e-02,\n",
       "        2.02238031e-01, -1.26724017e-01, -9.70458156e-02,  3.16378915e-01,\n",
       "        5.58725869e-01, -4.68503848e-01, -1.02823438e-01, -4.37676502e-01,\n",
       "       -3.44575788e-02,  2.03387380e-01, -7.76669687e-01,  5.59514959e-01,\n",
       "        4.43096159e-02,  2.44086334e-01,  1.23437834e-01, -2.34985877e-01,\n",
       "       -8.70232378e-01,  3.78670402e-01, -3.37689707e-01,  1.43495619e-01,\n",
       "        9.70877520e-02,  9.61836488e-02,  1.05214153e-02,  3.77111300e-01,\n",
       "       -1.52416000e-01, -1.56245441e-01, -7.32234063e-02, -1.08214187e-01,\n",
       "        1.11710867e-02, -5.31179914e-01, -2.10627839e-01, -1.40817651e-02,\n",
       "       -1.23985154e-01,  1.62390862e-01,  4.74898440e-01, -6.91916927e-01,\n",
       "        2.89265031e-01,  5.50702580e-01, -9.03821367e-01,  8.45089533e-02,\n",
       "        1.06465253e-01, -6.07910296e-02, -2.47483557e-03,  4.38973806e-02,\n",
       "       -2.61920854e-02,  2.86254171e-01, -4.26520823e-02,  8.43831680e-01,\n",
       "       -3.99855179e-01,  5.77642529e-03, -9.56303564e-01,  3.24081884e-01,\n",
       "        3.12062247e-01,  1.64148151e-01,  4.21465922e-03, -1.65921035e-01,\n",
       "       -4.94926651e-03])"
      ]
     },
     "execution_count": 27,
     "metadata": {},
     "output_type": "execute_result"
    }
   ],
   "source": [
    "logreg.coef_[0]"
   ]
  },
  {
   "cell_type": "code",
   "execution_count": 88,
   "metadata": {},
   "outputs": [],
   "source": [
    "feature_importance = abs(lr_raw.coef_[0])\n",
    "sorted_idx = np.argsort(feature_importance)\n",
    "pos = np.arange(sorted_idx.shape[0]) + .5"
   ]
  },
  {
   "cell_type": "code",
   "execution_count": 89,
   "metadata": {},
   "outputs": [
    {
     "data": {
      "image/png": "[encoded data removed]",
      "text/plain": [
       "<Figure size 1296x1152 with 1 Axes>"
      ]
     },
     "metadata": {
      "needs_background": "light"
     },
     "output_type": "display_data"
    }
   ],
   "source": [
    "import matplotlib.pyplot as plt\n",
    "featfig = plt.figure(figsize=(18, 16))\n",
    "featax = featfig.add_subplot(1, 1, 1)\n",
    "featax.barh(pos, feature_importance[sorted_idx], align='center')\n",
    "featax.set_yticks(pos)\n",
    "featax.set_yticklabels(np.array(X.columns)[sorted_idx], fontsize=8)\n",
    "featax.set_xlabel('Relative Feature Importance')\n",
    "plt.tight_layout()   \n",
    "plt.show()"
   ]
  },
  {
   "cell_type": "code",
   "execution_count": 56,
   "metadata": {},
   "outputs": [
    {
     "data": {
      "text/html": [
       "<div>\n",
       "<style scoped>\n",
       "    .dataframe tbody tr th:only-of-type {\n",
       "        vertical-align: middle;\n",
       "    }\n",
       "\n",
       "    .dataframe tbody tr th {\n",
       "        vertical-align: top;\n",
       "    }\n",
       "\n",
       "    .dataframe thead th {\n",
       "        text-align: right;\n",
       "    }\n",
       "</style>\n",
       "<table border=\"1\" class=\"dataframe\">\n",
       "  <thead>\n",
       "    <tr style=\"text-align: right;\">\n",
       "      <th></th>\n",
       "      <th>0</th>\n",
       "    </tr>\n",
       "  </thead>\n",
       "  <tbody>\n",
       "    <tr>\n",
       "      <th>ENCFF403BWK</th>\n",
       "      <td>0.000230</td>\n",
       "    </tr>\n",
       "    <tr>\n",
       "      <th>homerBorder</th>\n",
       "      <td>0.001771</td>\n",
       "    </tr>\n",
       "    <tr>\n",
       "      <th>ENCFF105PFS</th>\n",
       "      <td>-0.001834</td>\n",
       "    </tr>\n",
       "    <tr>\n",
       "      <th>ENCFF998CZO</th>\n",
       "      <td>-0.002475</td>\n",
       "    </tr>\n",
       "    <tr>\n",
       "      <th>ENCFF452VLA</th>\n",
       "      <td>0.003705</td>\n",
       "    </tr>\n",
       "    <tr>\n",
       "      <th>diffZscore10k</th>\n",
       "      <td>0.004215</td>\n",
       "    </tr>\n",
       "    <tr>\n",
       "      <th>InterNumber</th>\n",
       "      <td>-0.004949</td>\n",
       "    </tr>\n",
       "    <tr>\n",
       "      <th>ENCFF209TEF</th>\n",
       "      <td>-0.004992</td>\n",
       "    </tr>\n",
       "    <tr>\n",
       "      <th>Zscore10k</th>\n",
       "      <td>0.005776</td>\n",
       "    </tr>\n",
       "    <tr>\n",
       "      <th>ENCFF306PBX</th>\n",
       "      <td>0.007039</td>\n",
       "    </tr>\n",
       "    <tr>\n",
       "      <th>p65</th>\n",
       "      <td>-0.008536</td>\n",
       "    </tr>\n",
       "    <tr>\n",
       "      <th>ENCFF762CDY</th>\n",
       "      <td>0.010521</td>\n",
       "    </tr>\n",
       "    <tr>\n",
       "      <th>ENCFF800CDQ</th>\n",
       "      <td>0.011171</td>\n",
       "    </tr>\n",
       "    <tr>\n",
       "      <th>ENCFF873SVI</th>\n",
       "      <td>-0.014082</td>\n",
       "    </tr>\n",
       "    <tr>\n",
       "      <th>ENCFF496RVC</th>\n",
       "      <td>0.014083</td>\n",
       "    </tr>\n",
       "    <tr>\n",
       "      <th>Gene_clinical</th>\n",
       "      <td>-0.016346</td>\n",
       "    </tr>\n",
       "    <tr>\n",
       "      <th>ENCFF247VVK</th>\n",
       "      <td>-0.017660</td>\n",
       "    </tr>\n",
       "    <tr>\n",
       "      <th>cJun</th>\n",
       "      <td>0.022329</td>\n",
       "    </tr>\n",
       "    <tr>\n",
       "      <th>ER</th>\n",
       "      <td>0.024464</td>\n",
       "    </tr>\n",
       "    <tr>\n",
       "      <th>DIofPlus</th>\n",
       "      <td>-0.026192</td>\n",
       "    </tr>\n",
       "    <tr>\n",
       "      <th>ENCFF495PCJ</th>\n",
       "      <td>0.029912</td>\n",
       "    </tr>\n",
       "    <tr>\n",
       "      <th>ENCFF347USC</th>\n",
       "      <td>0.032857</td>\n",
       "    </tr>\n",
       "    <tr>\n",
       "      <th>loopHiC</th>\n",
       "      <td>-0.033080</td>\n",
       "    </tr>\n",
       "    <tr>\n",
       "      <th>ENCFF619BFO</th>\n",
       "      <td>-0.034458</td>\n",
       "    </tr>\n",
       "    <tr>\n",
       "      <th>ENCFF456MGR</th>\n",
       "      <td>-0.035230</td>\n",
       "    </tr>\n",
       "    <tr>\n",
       "      <th>H3K4me3</th>\n",
       "      <td>-0.042645</td>\n",
       "    </tr>\n",
       "    <tr>\n",
       "      <th>DNAmethyl</th>\n",
       "      <td>-0.042652</td>\n",
       "    </tr>\n",
       "    <tr>\n",
       "      <th>GeneE2response</th>\n",
       "      <td>-0.042979</td>\n",
       "    </tr>\n",
       "    <tr>\n",
       "      <th>CTCFsignal</th>\n",
       "      <td>0.043897</td>\n",
       "    </tr>\n",
       "    <tr>\n",
       "      <th>ENCFF666YGQ</th>\n",
       "      <td>0.044310</td>\n",
       "    </tr>\n",
       "    <tr>\n",
       "      <th>...</th>\n",
       "      <td>...</td>\n",
       "    </tr>\n",
       "    <tr>\n",
       "      <th>GWAS_ERpositive</th>\n",
       "      <td>0.516355</td>\n",
       "    </tr>\n",
       "    <tr>\n",
       "      <th>ENCFF824JOH</th>\n",
       "      <td>-0.531180</td>\n",
       "    </tr>\n",
       "    <tr>\n",
       "      <th>TAF1</th>\n",
       "      <td>-0.545848</td>\n",
       "    </tr>\n",
       "    <tr>\n",
       "      <th>ENCFF927DIO</th>\n",
       "      <td>0.550703</td>\n",
       "    </tr>\n",
       "    <tr>\n",
       "      <th>ENCFF578NMN</th>\n",
       "      <td>0.558726</td>\n",
       "    </tr>\n",
       "    <tr>\n",
       "      <th>ENCFF621ZSK</th>\n",
       "      <td>0.559515</td>\n",
       "    </tr>\n",
       "    <tr>\n",
       "      <th>ENCFF072VGV</th>\n",
       "      <td>0.568394</td>\n",
       "    </tr>\n",
       "    <tr>\n",
       "      <th>JMJD6</th>\n",
       "      <td>-0.578306</td>\n",
       "    </tr>\n",
       "    <tr>\n",
       "      <th>ENCFF320TAN</th>\n",
       "      <td>-0.578792</td>\n",
       "    </tr>\n",
       "    <tr>\n",
       "      <th>ENCFF455HWV</th>\n",
       "      <td>-0.590313</td>\n",
       "    </tr>\n",
       "    <tr>\n",
       "      <th>H3K9me3</th>\n",
       "      <td>-0.598709</td>\n",
       "    </tr>\n",
       "    <tr>\n",
       "      <th>ENCFF414EYO</th>\n",
       "      <td>-0.614532</td>\n",
       "    </tr>\n",
       "    <tr>\n",
       "      <th>FAIRE</th>\n",
       "      <td>0.614910</td>\n",
       "    </tr>\n",
       "    <tr>\n",
       "      <th>ENCFF364HWG</th>\n",
       "      <td>0.635053</td>\n",
       "    </tr>\n",
       "    <tr>\n",
       "      <th>CpG</th>\n",
       "      <td>-0.664590</td>\n",
       "    </tr>\n",
       "    <tr>\n",
       "      <th>ENCFF269RME</th>\n",
       "      <td>-0.675560</td>\n",
       "    </tr>\n",
       "    <tr>\n",
       "      <th>ENCFF899MQW</th>\n",
       "      <td>-0.691917</td>\n",
       "    </tr>\n",
       "    <tr>\n",
       "      <th>ENCFF144OPN</th>\n",
       "      <td>0.708850</td>\n",
       "    </tr>\n",
       "    <tr>\n",
       "      <th>ENCFF209WRW</th>\n",
       "      <td>-0.727350</td>\n",
       "    </tr>\n",
       "    <tr>\n",
       "      <th>H3K27me3</th>\n",
       "      <td>-0.752758</td>\n",
       "    </tr>\n",
       "    <tr>\n",
       "      <th>ENCFF620TOF</th>\n",
       "      <td>-0.776670</td>\n",
       "    </tr>\n",
       "    <tr>\n",
       "      <th>MED12</th>\n",
       "      <td>-0.832527</td>\n",
       "    </tr>\n",
       "    <tr>\n",
       "      <th>ENCFF089GNH</th>\n",
       "      <td>-0.838504</td>\n",
       "    </tr>\n",
       "    <tr>\n",
       "      <th>ICFofPlus</th>\n",
       "      <td>0.843832</td>\n",
       "    </tr>\n",
       "    <tr>\n",
       "      <th>ENCFF708ACK</th>\n",
       "      <td>-0.870232</td>\n",
       "    </tr>\n",
       "    <tr>\n",
       "      <th>ENCFF510UNI</th>\n",
       "      <td>-0.889541</td>\n",
       "    </tr>\n",
       "    <tr>\n",
       "      <th>ENCFF928YTD</th>\n",
       "      <td>-0.903821</td>\n",
       "    </tr>\n",
       "    <tr>\n",
       "      <th>H3K14ac</th>\n",
       "      <td>-0.927068</td>\n",
       "    </tr>\n",
       "    <tr>\n",
       "      <th>ENCFF441UHA</th>\n",
       "      <td>-0.934168</td>\n",
       "    </tr>\n",
       "    <tr>\n",
       "      <th>cohesinAvalue</th>\n",
       "      <td>-0.956304</td>\n",
       "    </tr>\n",
       "  </tbody>\n",
       "</table>\n",
       "<p>169 rows × 1 columns</p>\n",
       "</div>"
      ],
      "text/plain": [
       "                        0\n",
       "ENCFF403BWK      0.000230\n",
       "homerBorder      0.001771\n",
       "ENCFF105PFS     -0.001834\n",
       "ENCFF998CZO     -0.002475\n",
       "ENCFF452VLA      0.003705\n",
       "diffZscore10k    0.004215\n",
       "InterNumber     -0.004949\n",
       "ENCFF209TEF     -0.004992\n",
       "Zscore10k        0.005776\n",
       "ENCFF306PBX      0.007039\n",
       "p65             -0.008536\n",
       "ENCFF762CDY      0.010521\n",
       "ENCFF800CDQ      0.011171\n",
       "ENCFF873SVI     -0.014082\n",
       "ENCFF496RVC      0.014083\n",
       "Gene_clinical   -0.016346\n",
       "ENCFF247VVK     -0.017660\n",
       "cJun             0.022329\n",
       "ER               0.024464\n",
       "DIofPlus        -0.026192\n",
       "ENCFF495PCJ      0.029912\n",
       "ENCFF347USC      0.032857\n",
       "loopHiC         -0.033080\n",
       "ENCFF619BFO     -0.034458\n",
       "ENCFF456MGR     -0.035230\n",
       "H3K4me3         -0.042645\n",
       "DNAmethyl       -0.042652\n",
       "GeneE2response  -0.042979\n",
       "CTCFsignal       0.043897\n",
       "ENCFF666YGQ      0.044310\n",
       "...                   ...\n",
       "GWAS_ERpositive  0.516355\n",
       "ENCFF824JOH     -0.531180\n",
       "TAF1            -0.545848\n",
       "ENCFF927DIO      0.550703\n",
       "ENCFF578NMN      0.558726\n",
       "ENCFF621ZSK      0.559515\n",
       "ENCFF072VGV      0.568394\n",
       "JMJD6           -0.578306\n",
       "ENCFF320TAN     -0.578792\n",
       "ENCFF455HWV     -0.590313\n",
       "H3K9me3         -0.598709\n",
       "ENCFF414EYO     -0.614532\n",
       "FAIRE            0.614910\n",
       "ENCFF364HWG      0.635053\n",
       "CpG             -0.664590\n",
       "ENCFF269RME     -0.675560\n",
       "ENCFF899MQW     -0.691917\n",
       "ENCFF144OPN      0.708850\n",
       "ENCFF209WRW     -0.727350\n",
       "H3K27me3        -0.752758\n",
       "ENCFF620TOF     -0.776670\n",
       "MED12           -0.832527\n",
       "ENCFF089GNH     -0.838504\n",
       "ICFofPlus        0.843832\n",
       "ENCFF708ACK     -0.870232\n",
       "ENCFF510UNI     -0.889541\n",
       "ENCFF928YTD     -0.903821\n",
       "H3K14ac         -0.927068\n",
       "ENCFF441UHA     -0.934168\n",
       "cohesinAvalue   -0.956304\n",
       "\n",
       "[169 rows x 1 columns]"
      ]
     },
     "execution_count": 56,
     "metadata": {},
     "output_type": "execute_result"
    }
   ],
   "source": [
    "pd.DataFrame(logreg.coef_[0][sorted_idx],np.array(X.columns)[sorted_idx],)"
   ]
  },
  {
   "cell_type": "code",
   "execution_count": 58,
   "metadata": {},
   "outputs": [
    {
     "data": {
      "text/plain": [
       "0.36787944117144233"
      ]
     },
     "execution_count": 58,
     "metadata": {},
     "output_type": "execute_result"
    }
   ],
   "source": [
    "np.exp(-1)"
   ]
  },
  {
   "cell_type": "code",
   "execution_count": null,
   "metadata": {},
   "outputs": [],
   "source": []
  },
  {
   "cell_type": "code",
   "execution_count": null,
   "metadata": {},
   "outputs": [],
   "source": []
  },
  {
   "cell_type": "code",
   "execution_count": null,
   "metadata": {},
   "outputs": [],
   "source": []
  },
  {
   "cell_type": "code",
   "execution_count": null,
   "metadata": {},
   "outputs": [],
   "source": []
  },
  {
   "cell_type": "code",
   "execution_count": null,
   "metadata": {},
   "outputs": [],
   "source": []
  }
 ],
 "metadata": {
  "kernelspec": {
   "display_name": "Python 3",
   "language": "python",
   "name": "python3"
  },
  "language_info": {
   "codemirror_mode": {
    "name": "ipython",
    "version": 3
   },
   "file_extension": ".py",
   "mimetype": "text/x-python",
   "name": "python",
   "nbconvert_exporter": "python",
   "pygments_lexer": "ipython3",
   "version": "3.6.9"
  }
 },
 "nbformat": 4,
 "nbformat_minor": 2
}
