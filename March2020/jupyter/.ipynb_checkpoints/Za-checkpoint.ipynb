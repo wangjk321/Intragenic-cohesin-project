{
 "cells": [
  {
   "cell_type": "code",
   "execution_count": 1,
   "metadata": {},
   "outputs": [
    {
     "ename": "ModuleNotFoundError",
     "evalue": "No module named 'matplotlib'",
     "output_type": "error",
     "traceback": [
      "\u001b[0;31m---------------------------------------------------------------------------\u001b[0m",
      "\u001b[0;31mModuleNotFoundError\u001b[0m                       Traceback (most recent call last)",
      "\u001b[0;32m<ipython-input-1-3508adfbee93>\u001b[0m in \u001b[0;36m<module>\u001b[0;34m\u001b[0m\n\u001b[1;32m      1\u001b[0m \u001b[0;32mimport\u001b[0m \u001b[0mpandas\u001b[0m \u001b[0;32mas\u001b[0m \u001b[0mpd\u001b[0m\u001b[0;34m\u001b[0m\u001b[0;34m\u001b[0m\u001b[0m\n\u001b[1;32m      2\u001b[0m \u001b[0;32mimport\u001b[0m \u001b[0mnumpy\u001b[0m \u001b[0;32mas\u001b[0m \u001b[0mnp\u001b[0m\u001b[0;34m\u001b[0m\u001b[0;34m\u001b[0m\u001b[0m\n\u001b[0;32m----> 3\u001b[0;31m \u001b[0;32mimport\u001b[0m \u001b[0mmatplotlib\u001b[0m\u001b[0;34m.\u001b[0m\u001b[0mpyplot\u001b[0m \u001b[0;32mas\u001b[0m \u001b[0mplt\u001b[0m\u001b[0;34m\u001b[0m\u001b[0;34m\u001b[0m\u001b[0m\n\u001b[0m\u001b[1;32m      4\u001b[0m \u001b[0murl\u001b[0m\u001b[0;34m=\u001b[0m\u001b[0;34m\"https://raw.githubusercontent.com/wangjk321/Intragenic-cohesin-project/master/March2020/bino161_normalizedContinuous15.matrix\"\u001b[0m\u001b[0;34m\u001b[0m\u001b[0;34m\u001b[0m\u001b[0m\n\u001b[1;32m      5\u001b[0m \u001b[0mmt\u001b[0m \u001b[0;34m=\u001b[0m \u001b[0mpd\u001b[0m\u001b[0;34m.\u001b[0m\u001b[0mread_csv\u001b[0m\u001b[0;34m(\u001b[0m\u001b[0murl\u001b[0m\u001b[0;34m,\u001b[0m\u001b[0msep\u001b[0m\u001b[0;34m=\u001b[0m\u001b[0;34m\"\\t\"\u001b[0m\u001b[0;34m)\u001b[0m\u001b[0;34m\u001b[0m\u001b[0;34m\u001b[0m\u001b[0m\n",
      "\u001b[0;31mModuleNotFoundError\u001b[0m: No module named 'matplotlib'"
     ]
    }
   ],
   "source": [
    "import pandas as pd\n",
    "import numpy as np\n",
    "import matplotlib.pyplot as plt\n",
    "url=\"https://raw.githubusercontent.com/wangjk321/Intragenic-cohesin-project/master/March2020/bino161_normalizedContinuous15.matrix\"\n",
    "mt = pd.read_csv(url,sep=\"\\t\")\n",
    "\n",
    "mt.index=mt.CohesinPos\n",
    "mt.drop(\"CohesinPos\",axis=1,inplace=True)"
   ]
  },
  {
   "cell_type": "code",
   "execution_count": 25,
   "metadata": {},
   "outputs": [],
   "source": [
    "y=(mt[\"Mvalue_continue\"]<-0.5) & (mt[\"cohesin.intra\"]==1)"
   ]
  },
  {
   "cell_type": "code",
   "execution_count": 22,
   "metadata": {},
   "outputs": [],
   "source": [
    "target=mt[[\"Mvalue\",\"ChIAloop\",\"Mvalue_continue\",\"cohesin.TSS\",\"cohesin.TES\",\n",
    "           \"cohesin.extraFar\",\"cohesin.extraNear\",\"cohesin.intra\",'Gene_highRNAseq',\n",
    "          'GeneE2response','loopHiC']]"
   ]
  },
  {
   "cell_type": "code",
   "execution_count": 23,
   "metadata": {},
   "outputs": [
    {
     "data": {
      "text/html": [
       "<div>\n",
       "<style scoped>\n",
       "    .dataframe tbody tr th:only-of-type {\n",
       "        vertical-align: middle;\n",
       "    }\n",
       "\n",
       "    .dataframe tbody tr th {\n",
       "        vertical-align: top;\n",
       "    }\n",
       "\n",
       "    .dataframe thead th {\n",
       "        text-align: right;\n",
       "    }\n",
       "</style>\n",
       "<table border=\"1\" class=\"dataframe\">\n",
       "  <thead>\n",
       "    <tr style=\"text-align: right;\">\n",
       "      <th></th>\n",
       "      <th>Mvalue</th>\n",
       "      <th>ChIAloop</th>\n",
       "      <th>Mvalue_continue</th>\n",
       "      <th>cohesin.TSS</th>\n",
       "      <th>cohesin.TES</th>\n",
       "      <th>cohesin.extraFar</th>\n",
       "      <th>cohesin.extraNear</th>\n",
       "      <th>cohesin.intra</th>\n",
       "      <th>Gene_highRNAseq</th>\n",
       "      <th>GeneE2response</th>\n",
       "      <th>loopHiC</th>\n",
       "    </tr>\n",
       "    <tr>\n",
       "      <th>CohesinPos</th>\n",
       "      <th></th>\n",
       "      <th></th>\n",
       "      <th></th>\n",
       "      <th></th>\n",
       "      <th></th>\n",
       "      <th></th>\n",
       "      <th></th>\n",
       "      <th></th>\n",
       "      <th></th>\n",
       "      <th></th>\n",
       "      <th></th>\n",
       "    </tr>\n",
       "  </thead>\n",
       "  <tbody>\n",
       "    <tr>\n",
       "      <th>chr1-850499-850659</th>\n",
       "      <td>-1</td>\n",
       "      <td>0</td>\n",
       "      <td>-0.63231</td>\n",
       "      <td>0</td>\n",
       "      <td>0</td>\n",
       "      <td>0</td>\n",
       "      <td>0</td>\n",
       "      <td>0</td>\n",
       "      <td>1</td>\n",
       "      <td>0</td>\n",
       "      <td>0</td>\n",
       "    </tr>\n",
       "    <tr>\n",
       "      <th>chr1-869857-870002</th>\n",
       "      <td>0</td>\n",
       "      <td>0</td>\n",
       "      <td>-0.29637</td>\n",
       "      <td>0</td>\n",
       "      <td>0</td>\n",
       "      <td>0</td>\n",
       "      <td>0</td>\n",
       "      <td>0</td>\n",
       "      <td>1</td>\n",
       "      <td>0</td>\n",
       "      <td>0</td>\n",
       "    </tr>\n",
       "    <tr>\n",
       "      <th>chr1-904555-904884</th>\n",
       "      <td>0</td>\n",
       "      <td>1</td>\n",
       "      <td>-0.01361</td>\n",
       "      <td>0</td>\n",
       "      <td>0</td>\n",
       "      <td>0</td>\n",
       "      <td>1</td>\n",
       "      <td>0</td>\n",
       "      <td>1</td>\n",
       "      <td>0</td>\n",
       "      <td>0</td>\n",
       "    </tr>\n",
       "    <tr>\n",
       "      <th>chr1-904699-904909</th>\n",
       "      <td>0</td>\n",
       "      <td>1</td>\n",
       "      <td>0.22640</td>\n",
       "      <td>0</td>\n",
       "      <td>0</td>\n",
       "      <td>0</td>\n",
       "      <td>1</td>\n",
       "      <td>0</td>\n",
       "      <td>1</td>\n",
       "      <td>0</td>\n",
       "      <td>0</td>\n",
       "    </tr>\n",
       "    <tr>\n",
       "      <th>chr1-905140-905582</th>\n",
       "      <td>0</td>\n",
       "      <td>1</td>\n",
       "      <td>-0.08616</td>\n",
       "      <td>0</td>\n",
       "      <td>0</td>\n",
       "      <td>0</td>\n",
       "      <td>1</td>\n",
       "      <td>0</td>\n",
       "      <td>1</td>\n",
       "      <td>0</td>\n",
       "      <td>0</td>\n",
       "    </tr>\n",
       "  </tbody>\n",
       "</table>\n",
       "</div>"
      ],
      "text/plain": [
       "                    Mvalue  ChIAloop  Mvalue_continue  cohesin.TSS  \\\n",
       "CohesinPos                                                           \n",
       "chr1-850499-850659      -1         0         -0.63231            0   \n",
       "chr1-869857-870002       0         0         -0.29637            0   \n",
       "chr1-904555-904884       0         1         -0.01361            0   \n",
       "chr1-904699-904909       0         1          0.22640            0   \n",
       "chr1-905140-905582       0         1         -0.08616            0   \n",
       "\n",
       "                    cohesin.TES  cohesin.extraFar  cohesin.extraNear  \\\n",
       "CohesinPos                                                             \n",
       "chr1-850499-850659            0                 0                  0   \n",
       "chr1-869857-870002            0                 0                  0   \n",
       "chr1-904555-904884            0                 0                  1   \n",
       "chr1-904699-904909            0                 0                  1   \n",
       "chr1-905140-905582            0                 0                  1   \n",
       "\n",
       "                    cohesin.intra  Gene_highRNAseq  GeneE2response  loopHiC  \n",
       "CohesinPos                                                                   \n",
       "chr1-850499-850659              0                1               0        0  \n",
       "chr1-869857-870002              0                1               0        0  \n",
       "chr1-904555-904884              0                1               0        0  \n",
       "chr1-904699-904909              0                1               0        0  \n",
       "chr1-905140-905582              0                1               0        0  "
      ]
     },
     "execution_count": 23,
     "metadata": {},
     "output_type": "execute_result"
    }
   ],
   "source": [
    "target.head()"
   ]
  },
  {
   "cell_type": "code",
   "execution_count": 31,
   "metadata": {},
   "outputs": [
    {
     "data": {
      "text/html": [
       "<div>\n",
       "<style scoped>\n",
       "    .dataframe tbody tr th:only-of-type {\n",
       "        vertical-align: middle;\n",
       "    }\n",
       "\n",
       "    .dataframe tbody tr th {\n",
       "        vertical-align: top;\n",
       "    }\n",
       "\n",
       "    .dataframe thead th {\n",
       "        text-align: right;\n",
       "    }\n",
       "</style>\n",
       "<table border=\"1\" class=\"dataframe\">\n",
       "  <thead>\n",
       "    <tr style=\"text-align: right;\">\n",
       "      <th></th>\n",
       "      <th>Mvalue</th>\n",
       "      <th>ChIAloop</th>\n",
       "      <th>Mvalue_continue</th>\n",
       "      <th>cohesin.TSS</th>\n",
       "      <th>cohesin.TES</th>\n",
       "      <th>cohesin.extraFar</th>\n",
       "      <th>cohesin.extraNear</th>\n",
       "      <th>cohesin.intra</th>\n",
       "      <th>Gene_highRNAseq</th>\n",
       "      <th>GeneE2response</th>\n",
       "      <th>loopHiC</th>\n",
       "      <th>0</th>\n",
       "    </tr>\n",
       "    <tr>\n",
       "      <th>CohesinPos</th>\n",
       "      <th></th>\n",
       "      <th></th>\n",
       "      <th></th>\n",
       "      <th></th>\n",
       "      <th></th>\n",
       "      <th></th>\n",
       "      <th></th>\n",
       "      <th></th>\n",
       "      <th></th>\n",
       "      <th></th>\n",
       "      <th></th>\n",
       "      <th></th>\n",
       "    </tr>\n",
       "  </thead>\n",
       "  <tbody>\n",
       "    <tr>\n",
       "      <th>chr1-850499-850659</th>\n",
       "      <td>-1</td>\n",
       "      <td>0</td>\n",
       "      <td>-0.63231</td>\n",
       "      <td>0</td>\n",
       "      <td>0</td>\n",
       "      <td>0</td>\n",
       "      <td>0</td>\n",
       "      <td>0</td>\n",
       "      <td>1</td>\n",
       "      <td>0</td>\n",
       "      <td>0</td>\n",
       "      <td>False</td>\n",
       "    </tr>\n",
       "    <tr>\n",
       "      <th>chr1-869857-870002</th>\n",
       "      <td>0</td>\n",
       "      <td>0</td>\n",
       "      <td>-0.29637</td>\n",
       "      <td>0</td>\n",
       "      <td>0</td>\n",
       "      <td>0</td>\n",
       "      <td>0</td>\n",
       "      <td>0</td>\n",
       "      <td>1</td>\n",
       "      <td>0</td>\n",
       "      <td>0</td>\n",
       "      <td>False</td>\n",
       "    </tr>\n",
       "    <tr>\n",
       "      <th>chr1-904555-904884</th>\n",
       "      <td>0</td>\n",
       "      <td>1</td>\n",
       "      <td>-0.01361</td>\n",
       "      <td>0</td>\n",
       "      <td>0</td>\n",
       "      <td>0</td>\n",
       "      <td>1</td>\n",
       "      <td>0</td>\n",
       "      <td>1</td>\n",
       "      <td>0</td>\n",
       "      <td>0</td>\n",
       "      <td>False</td>\n",
       "    </tr>\n",
       "    <tr>\n",
       "      <th>chr1-904699-904909</th>\n",
       "      <td>0</td>\n",
       "      <td>1</td>\n",
       "      <td>0.22640</td>\n",
       "      <td>0</td>\n",
       "      <td>0</td>\n",
       "      <td>0</td>\n",
       "      <td>1</td>\n",
       "      <td>0</td>\n",
       "      <td>1</td>\n",
       "      <td>0</td>\n",
       "      <td>0</td>\n",
       "      <td>False</td>\n",
       "    </tr>\n",
       "    <tr>\n",
       "      <th>chr1-905140-905582</th>\n",
       "      <td>0</td>\n",
       "      <td>1</td>\n",
       "      <td>-0.08616</td>\n",
       "      <td>0</td>\n",
       "      <td>0</td>\n",
       "      <td>0</td>\n",
       "      <td>1</td>\n",
       "      <td>0</td>\n",
       "      <td>1</td>\n",
       "      <td>0</td>\n",
       "      <td>0</td>\n",
       "      <td>False</td>\n",
       "    </tr>\n",
       "  </tbody>\n",
       "</table>\n",
       "</div>"
      ],
      "text/plain": [
       "                    Mvalue  ChIAloop  Mvalue_continue  cohesin.TSS  \\\n",
       "CohesinPos                                                           \n",
       "chr1-850499-850659      -1         0         -0.63231            0   \n",
       "chr1-869857-870002       0         0         -0.29637            0   \n",
       "chr1-904555-904884       0         1         -0.01361            0   \n",
       "chr1-904699-904909       0         1          0.22640            0   \n",
       "chr1-905140-905582       0         1         -0.08616            0   \n",
       "\n",
       "                    cohesin.TES  cohesin.extraFar  cohesin.extraNear  \\\n",
       "CohesinPos                                                             \n",
       "chr1-850499-850659            0                 0                  0   \n",
       "chr1-869857-870002            0                 0                  0   \n",
       "chr1-904555-904884            0                 0                  1   \n",
       "chr1-904699-904909            0                 0                  1   \n",
       "chr1-905140-905582            0                 0                  1   \n",
       "\n",
       "                    cohesin.intra  Gene_highRNAseq  GeneE2response  loopHiC  \\\n",
       "CohesinPos                                                                    \n",
       "chr1-850499-850659              0                1               0        0   \n",
       "chr1-869857-870002              0                1               0        0   \n",
       "chr1-904555-904884              0                1               0        0   \n",
       "chr1-904699-904909              0                1               0        0   \n",
       "chr1-905140-905582              0                1               0        0   \n",
       "\n",
       "                        0  \n",
       "CohesinPos                 \n",
       "chr1-850499-850659  False  \n",
       "chr1-869857-870002  False  \n",
       "chr1-904555-904884  False  \n",
       "chr1-904699-904909  False  \n",
       "chr1-905140-905582  False  "
      ]
     },
     "execution_count": 31,
     "metadata": {},
     "output_type": "execute_result"
    }
   ],
   "source": [
    "test=pd.concat([target,y],axis=1)\n",
    "test.head()"
   ]
  },
  {
   "cell_type": "code",
   "execution_count": 29,
   "metadata": {
    "scrolled": true
   },
   "outputs": [
    {
     "data": {
      "text/plain": [
       "<Figure size 720x720 with 0 Axes>"
      ]
     },
     "metadata": {},
     "output_type": "display_data"
    },
    {
     "data": {
      "image/png": "[encoded data removed]",
      "text/plain": [
       "<Figure size 720x720 with 4 Axes>"
      ]
     },
     "metadata": {
      "needs_background": "light"
     },
     "output_type": "display_data"
    }
   ],
   "source": [
    "import seaborn as sns\n",
    "plt.figure(figsize=(10,10 ))\n",
    "sns.clustermap(test.corr(),vmin=-1, vmax=1,cmap=\"RdYlBu_r\")\n",
    "plt.show()"
   ]
  },
  {
   "cell_type": "code",
   "execution_count": 18,
   "metadata": {},
   "outputs": [
    {
     "data": {
      "text/plain": [
       "array(['AFF4', 'AP2g', 'BRD3', 'BRD4', 'CAGE_MCF7', 'CAGE_all', 'CBP',\n",
       "       'ChIAloop', 'CpG', 'DNase', 'ER', 'FAIRE', 'FOXA1', 'Fantom',\n",
       "       'GATA3', 'GWAS_ERpositive', 'GWAS_allBreast', 'GeneE2response',\n",
       "       'Gene_HarmonMCF7', 'Gene_clinical', 'Gene_highRNAseq', 'H3K14ac',\n",
       "       'H3K27ac', 'H3K27me3', 'H3K4me1', 'H3K4me3', 'H3K9ac', 'H3K9me3',\n",
       "       'JMJD6', 'MED12', 'MEN1', 'Mau2', 'Med1', 'Mvalue', 'PC1', 'Pol2',\n",
       "       'RBP2', 'RIP140', 'SRC1', 'SRC2', 'SRC3', 'TAF1', 'TEAD4', 'YAP',\n",
       "       'ZNF143', 'c.Myc', 'cFos', 'cJun', 'cohesin.TES', 'cohesin.TSS',\n",
       "       'cohesin.extraFar', 'cohesin.extraNear', 'cohesin.intra',\n",
       "       'homerBorder', 'loopHiC', 'loopHomer', 'p300', 'p65',\n",
       "       'repeat_hg38_pos', 'ENCFF020UCD', 'ENCFF025SMR', 'ENCFF042AWM',\n",
       "       'ENCFF046BRP', 'ENCFF059LJD', 'ENCFF072VGV', 'ENCFF081TVG',\n",
       "       'ENCFF083AZM', 'ENCFF089GNH', 'ENCFF091AYX', 'ENCFF103MPW',\n",
       "       'ENCFF105PFS', 'ENCFF144OPN', 'ENCFF144VMM', 'ENCFF150PTQ',\n",
       "       'ENCFF160RLI', 'ENCFF161SFU', 'ENCFF170POB', 'ENCFF180XXZ',\n",
       "       'ENCFF191SBE', 'ENCFF209TEF', 'ENCFF209WRW', 'ENCFF220RUS',\n",
       "       'ENCFF225VFR', 'ENCFF233RBO', 'ENCFF246ZMG', 'ENCFF247VVK',\n",
       "       'ENCFF258ZVN', 'ENCFF269RME', 'ENCFF275WAD', 'ENCFF290LSS',\n",
       "       'ENCFF300OKR', 'ENCFF306PBX', 'ENCFF320TAN', 'ENCFF329QYZ',\n",
       "       'ENCFF343QQE', 'ENCFF347USC', 'ENCFF364HWG', 'ENCFF370EQJ',\n",
       "       'ENCFF385WUL', 'ENCFF401IAI', 'ENCFF403BWK', 'ENCFF408TWV',\n",
       "       'ENCFF414EYO', 'ENCFF414LXZ', 'ENCFF432GSK', 'ENCFF441UHA',\n",
       "       'ENCFF452VLA', 'ENCFF455HWV', 'ENCFF456MGR', 'ENCFF461CLM',\n",
       "       'ENCFF464QAL', 'ENCFF473UHQ', 'ENCFF495PCJ', 'ENCFF496RVC',\n",
       "       'ENCFF508JRB', 'ENCFF510UNI', 'ENCFF519XTN', 'ENCFF525RRP',\n",
       "       'ENCFF541DRZ', 'ENCFF541HRT', 'ENCFF569ZCY', 'ENCFF577EMC',\n",
       "       'ENCFF578NMN', 'ENCFF589MVU', 'ENCFF618JNX', 'ENCFF618NVV',\n",
       "       'ENCFF619BFO', 'ENCFF620RPM', 'ENCFF620TOF', 'ENCFF621ZSK',\n",
       "       'ENCFF666YGQ', 'ENCFF682WFF', 'ENCFF687REM', 'ENCFF694ZRC',\n",
       "       'ENCFF708ACK', 'ENCFF720PZA', 'ENCFF730UAD', 'ENCFF736DZL',\n",
       "       'ENCFF760ZVI', 'ENCFF761NKP', 'ENCFF762CDY', 'ENCFF762MGC',\n",
       "       'ENCFF775BWJ', 'ENCFF780WLS', 'ENCFF786XJV', 'ENCFF794UEM',\n",
       "       'ENCFF800CDQ', 'ENCFF824JOH', 'ENCFF838LXI', 'ENCFF873SVI',\n",
       "       'ENCFF883LRJ', 'ENCFF891BPE', 'ENCFF895MJB', 'ENCFF899MQW',\n",
       "       'ENCFF907UNK', 'ENCFF927DIO', 'ENCFF928YTD', 'ENCFF930PBH',\n",
       "       'ENCFF932XEU', 'ENCFF982QZR', 'ENCFF998CZO', 'CTCFsignal',\n",
       "       'DIofPlus', 'DLRofPlus', 'DNAmethyl', 'ICFofPlus', 'Insulation',\n",
       "       'Mvalue_continue', 'Zscore10k', 'cohesinAvalue', 'cohesinWidth',\n",
       "       'deltaDLR', 'deltaICF', 'diffZscore10k', 'homerInsulation',\n",
       "       'InterNumber'], dtype=object)"
      ]
     },
     "execution_count": 18,
     "metadata": {},
     "output_type": "execute_result"
    }
   ],
   "source": [
    "mt.columns.values"
   ]
  },
  {
   "cell_type": "code",
   "execution_count": 9,
   "metadata": {},
   "outputs": [
    {
     "name": "stdout",
     "output_type": "stream",
     "text": [
      "3.6.9 |Anaconda, Inc.| (default, Jul 30 2019, 19:07:31) \n",
      "[GCC 7.3.0]\n",
      "['/home/wang/software/anaconda3/lib/python36.zip', '/home/wang/software/anaconda3/lib/python3.6', '/home/wang/software/anaconda3/lib/python3.6/lib-dynload', '', '/home/wang/software/anaconda3/lib/python3.6/site-packages', '/home/wang/software/anaconda3/lib/python3.6/site-packages/IPython/extensions', '/home/wang/.ipython']\n"
     ]
    }
   ],
   "source": [
    "import sys\n",
    "print(sys.version)\n",
    "print(sys.path)"
   ]
  },
  {
   "cell_type": "code",
   "execution_count": 7,
   "metadata": {},
   "outputs": [
    {
     "name": "stdout",
     "output_type": "stream",
     "text": [
      "/home/wang/software/anaconda3/bin/python3\r\n"
     ]
    }
   ],
   "source": [
    "!which python3"
   ]
  },
  {
   "cell_type": "code",
   "execution_count": 3,
   "metadata": {},
   "outputs": [
    {
     "name": "stdout",
     "output_type": "stream",
     "text": [
      "Available Themes: \r\n",
      "   chesterish\r\n",
      "   grade3\r\n",
      "   gruvboxd\r\n",
      "   gruvboxl\r\n",
      "   monokai\r\n",
      "   oceans16\r\n",
      "   onedork\r\n",
      "   solarizedd\r\n",
      "   solarizedl\r\n"
     ]
    }
   ],
   "source": [
    "!jt -l"
   ]
  },
  {
   "cell_type": "code",
   "execution_count": 19,
   "metadata": {},
   "outputs": [],
   "source": [
    "!jt -t   gruvboxl -T"
   ]
  },
  {
   "cell_type": "code",
   "execution_count": null,
   "metadata": {},
   "outputs": [],
   "source": []
  }
 ],
 "metadata": {
  "kernelspec": {
   "display_name": "Python 3",
   "language": "python",
   "name": "python3"
  },
  "language_info": {
   "codemirror_mode": {
    "name": "ipython",
    "version": 3
   },
   "file_extension": ".py",
   "mimetype": "text/x-python",
   "name": "python",
   "nbconvert_exporter": "python",
   "pygments_lexer": "ipython3",
   "version": "3.6.9"
  }
 },
 "nbformat": 4,
 "nbformat_minor": 2
}
